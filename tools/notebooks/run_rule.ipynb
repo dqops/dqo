{
 "cells": [
  {
   "cell_type": "code",
   "execution_count": 1,
   "id": "735ec069-be93-4867-aba2-04209d497334",
   "metadata": {},
   "outputs": [],
   "source": [
    "import os"
   ]
  },
  {
   "cell_type": "code",
   "execution_count": 2,
   "id": "84b059cf-bcdb-4429-8b4e-d9a33f58dfcd",
   "metadata": {},
   "outputs": [],
   "source": [
    "import sys"
   ]
  },
  {
   "cell_type": "code",
   "execution_count": 3,
   "id": "1696e50b-25da-42cd-b6ad-fc86c1921454",
   "metadata": {},
   "outputs": [],
   "source": [
    "from IPython.lib.pretty import pretty"
   ]
  },
  {
   "cell_type": "code",
   "execution_count": 4,
   "id": "6589e358-34d6-496e-b130-5442585b7b69",
   "metadata": {},
   "outputs": [],
   "source": [
    "import glob"
   ]
  },
  {
   "cell_type": "code",
   "execution_count": 5,
   "id": "cd908a2d-ddc4-4267-9961-82e7894315f4",
   "metadata": {},
   "outputs": [],
   "source": [
    "import json"
   ]
  },
  {
   "cell_type": "code",
   "execution_count": 6,
   "id": "0525b57f-afaa-45e2-a57c-aaabc45ed509",
   "metadata": {},
   "outputs": [],
   "source": [
    "from json import JSONDecoder"
   ]
  },
  {
   "cell_type": "code",
   "execution_count": 7,
   "id": "cb7b79a2-e90b-4b40-9c43-31f3fcb365c7",
   "metadata": {},
   "outputs": [],
   "source": [
    "dqo_home = os.path.abspath(os.path.join(os.getcwd(), \"../../home\"))"
   ]
  },
  {
   "cell_type": "code",
   "execution_count": 8,
   "id": "ca2b0671-3d19-4ef6-b02b-da541a15fc46",
   "metadata": {},
   "outputs": [],
   "source": [
    "dqo_user_home = os.path.abspath(os.path.join(os.getcwd(), \"../../userhome\"))"
   ]
  },
  {
   "cell_type": "code",
   "execution_count": 9,
   "id": "aa3c2adf-7d94-4273-87fb-6d7275b59355",
   "metadata": {},
   "outputs": [],
   "source": [
    "sys.path.append(dqo_home)"
   ]
  },
  {
   "cell_type": "code",
   "execution_count": 10,
   "id": "ced0506f-ded3-45a1-b753-2c56af1b8933",
   "metadata": {},
   "outputs": [],
   "source": [
    "sys.path.append(dqo_user_home)"
   ]
  },
  {
   "cell_type": "code",
   "execution_count": 11,
   "id": "c86ab4b8-ab3b-4ada-9d46-4dd530ad4ea1",
   "metadata": {},
   "outputs": [],
   "source": [
    "from lib.streaming import ObjectHook, ObjectEncoder"
   ]
  },
  {
   "cell_type": "code",
   "execution_count": 12,
   "id": "236f4afb-9ec6-4903-bba2-292cbe0b8455",
   "metadata": {},
   "outputs": [],
   "source": [
    "json_decoder = JSONDecoder(object_hook=ObjectHook)"
   ]
  },
  {
   "cell_type": "code",
   "execution_count": 13,
   "id": "8bc9a1ed-c560-4e8a-a66d-fcc729603d7a",
   "metadata": {},
   "outputs": [],
   "source": [
    "json_encoder = ObjectEncoder()"
   ]
  },
  {
   "cell_type": "code",
   "execution_count": 14,
   "id": "d0af6777-35d1-4903-b32c-3f3fc9c21ada",
   "metadata": {},
   "outputs": [],
   "source": [
    "all_files = glob.glob(os.path.join(dqo_user_home, \".index/models/**/*.json\"), recursive =True)"
   ]
  },
  {
   "cell_type": "code",
   "execution_count": 15,
   "id": "a598183e-5a54-473c-a406-4dffa27b77ed",
   "metadata": {},
   "outputs": [],
   "source": [
    "check_name = \"daily_partition_distinct_count_anomaly\""
   ]
  },
  {
   "cell_type": "code",
   "execution_count": 16,
   "id": "40d0a015-3e93-4e40-9555-e4cc82fc070a",
   "metadata": {},
   "outputs": [],
   "source": [
    "filtered_file_names = [filename for filename in all_files if check_name in filename]"
   ]
  },
  {
   "cell_type": "code",
   "execution_count": 17,
   "id": "6eead55c-9bfd-4a87-b269-95d6c92b50b5",
   "metadata": {},
   "outputs": [],
   "source": [
    "file_name = filtered_file_names[0]"
   ]
  },
  {
   "cell_type": "code",
   "execution_count": 18,
   "id": "09102c0f-d25b-4c90-9ebe-f72de08f7fc1",
   "metadata": {},
   "outputs": [],
   "source": [
    "with open(file_name, 'r') as file:\n",
    "    file_content_text = file.read()"
   ]
  },
  {
   "cell_type": "code",
   "execution_count": 19,
   "id": "0c745153-d21f-4d1c-8eb9-8a540dbf570d",
   "metadata": {},
   "outputs": [],
   "source": [
    "rule_request = json_decoder.decode(file_content_text)"
   ]
  },
  {
   "cell_type": "code",
   "execution_count": 20,
   "id": "3cc503b5-e43c-4871-8c99-7316a8771b6a",
   "metadata": {},
   "outputs": [],
   "source": [
    "import rules.percentile.anomaly_stationary_count_values as anomaly_stationary_count_values"
   ]
  },
  {
   "cell_type": "code",
   "execution_count": 21,
   "id": "adc0e8f2-3197-42db-b807-b7380f387181",
   "metadata": {},
   "outputs": [],
   "source": [
    "rule_result = anomaly_stationary_count_values.evaluate_rule(rule_request.request.rule_parameters)"
   ]
  },
  {
   "cell_type": "code",
   "execution_count": 22,
   "id": "9295c0d0-fea0-4774-9f9b-1a7713d0125a",
   "metadata": {},
   "outputs": [
    {
     "data": {
      "text/plain": [
       "'{\"passed\": true, \"expected_value\": 84.5, \"lower_bound\": null, \"upper_bound\": null}'"
      ]
     },
     "execution_count": 22,
     "metadata": {},
     "output_type": "execute_result"
    }
   ],
   "source": [
    "json_encoder.encode(rule_result)"
   ]
  },
  {
   "cell_type": "code",
   "execution_count": null,
   "id": "4cba5915-8bc0-4a96-84d3-770b76dd24e8",
   "metadata": {},
   "outputs": [],
   "source": []
  },
  {
   "cell_type": "code",
   "execution_count": null,
   "id": "6e855192-ae39-4759-a974-0294ac11e84e",
   "metadata": {},
   "outputs": [],
   "source": []
  }
 ],
 "metadata": {
  "kernelspec": {
   "display_name": "Python 3 (ipykernel)",
   "language": "python",
   "name": "python3"
  },
  "language_info": {
   "codemirror_mode": {
    "name": "ipython",
    "version": 3
   },
   "file_extension": ".py",
   "mimetype": "text/x-python",
   "name": "python",
   "nbconvert_exporter": "python",
   "pygments_lexer": "ipython3",
   "version": "3.12.4"
  }
 },
 "nbformat": 4,
 "nbformat_minor": 5
}
