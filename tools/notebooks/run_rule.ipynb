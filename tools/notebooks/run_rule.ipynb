{
 "cells": [
  {
   "cell_type": "code",
   "execution_count": 1,
   "id": "735ec069-be93-4867-aba2-04209d497334",
   "metadata": {},
   "outputs": [],
   "source": [
    "import os"
   ]
  },
  {
   "cell_type": "code",
   "execution_count": 2,
   "id": "84b059cf-bcdb-4429-8b4e-d9a33f58dfcd",
   "metadata": {},
   "outputs": [],
   "source": [
    "import sys"
   ]
  },
  {
   "cell_type": "code",
   "execution_count": 3,
   "id": "1696e50b-25da-42cd-b6ad-fc86c1921454",
   "metadata": {},
   "outputs": [],
   "source": [
    "from IPython.lib.pretty import pretty"
   ]
  },
  {
   "cell_type": "code",
   "execution_count": 4,
   "id": "6589e358-34d6-496e-b130-5442585b7b69",
   "metadata": {},
   "outputs": [],
   "source": [
    "import glob"
   ]
  },
  {
   "cell_type": "code",
   "execution_count": 5,
   "id": "cd908a2d-ddc4-4267-9961-82e7894315f4",
   "metadata": {},
   "outputs": [],
   "source": [
    "import json"
   ]
  },
  {
   "cell_type": "code",
   "execution_count": 6,
   "id": "0525b57f-afaa-45e2-a57c-aaabc45ed509",
   "metadata": {},
   "outputs": [],
   "source": [
    "from json import JSONDecoder, JSONEncoder"
   ]
  },
  {
   "cell_type": "code",
   "execution_count": 7,
   "id": "cb7b79a2-e90b-4b40-9c43-31f3fcb365c7",
   "metadata": {},
   "outputs": [],
   "source": [
    "dqo_home = os.path.abspath(os.path.join(os.getcwd(), \"../../home\"))"
   ]
  },
  {
   "cell_type": "code",
   "execution_count": 8,
   "id": "ca2b0671-3d19-4ef6-b02b-da541a15fc46",
   "metadata": {},
   "outputs": [],
   "source": [
    "dqo_user_home = os.path.abspath(os.path.join(os.getcwd(), \"../../userhome\"))"
   ]
  },
  {
   "cell_type": "code",
   "execution_count": 9,
   "id": "aa3c2adf-7d94-4273-87fb-6d7275b59355",
   "metadata": {},
   "outputs": [],
   "source": [
    "sys.path.append(dqo_home)"
   ]
  },
  {
   "cell_type": "code",
   "execution_count": 10,
   "id": "ced0506f-ded3-45a1-b753-2c56af1b8933",
   "metadata": {},
   "outputs": [],
   "source": [
    "sys.path.append(dqo_user_home)"
   ]
  },
  {
   "cell_type": "code",
   "execution_count": 11,
   "id": "c86ab4b8-ab3b-4ada-9d46-4dd530ad4ea1",
   "metadata": {},
   "outputs": [],
   "source": [
    "from lib.streaming import ObjectHook, ObjectEncoder"
   ]
  },
  {
   "cell_type": "code",
   "execution_count": 12,
   "id": "236f4afb-9ec6-4903-bba2-292cbe0b8455",
   "metadata": {},
   "outputs": [],
   "source": [
    "json_decoder = JSONDecoder(object_hook=ObjectHook)"
   ]
  },
  {
   "cell_type": "code",
   "execution_count": 13,
   "id": "8bc9a1ed-c560-4e8a-a66d-fcc729603d7a",
   "metadata": {},
   "outputs": [],
   "source": [
    "json_encoder = ObjectEncoder()"
   ]
  },
  {
   "cell_type": "code",
   "execution_count": 14,
   "id": "2ac7b06b-33a5-4f91-98c0-597630fba704",
   "metadata": {},
   "outputs": [],
   "source": [
    "#json_encoder.indent = 4"
   ]
  },
  {
   "cell_type": "code",
   "execution_count": 15,
   "id": "c761517b-97f4-4dd5-9040-d62d9bd6cfc8",
   "metadata": {},
   "outputs": [],
   "source": [
    "#json_encoder.key_separator = ','"
   ]
  },
  {
   "cell_type": "code",
   "execution_count": 16,
   "id": "d0af6777-35d1-4903-b32c-3f3fc9c21ada",
   "metadata": {},
   "outputs": [],
   "source": [
    "all_files = glob.glob(os.path.join(dqo_user_home, \".index/models/**/*.json\"), recursive =True)"
   ]
  },
  {
   "cell_type": "code",
   "execution_count": 17,
   "id": "a598183e-5a54-473c-a406-4dffa27b77ed",
   "metadata": {},
   "outputs": [],
   "source": [
    "check_name = \"daily_partition_distinct_count_anomaly\""
   ]
  },
  {
   "cell_type": "code",
   "execution_count": 18,
   "id": "40d0a015-3e93-4e40-9555-e4cc82fc070a",
   "metadata": {},
   "outputs": [],
   "source": [
    "filtered_file_names = [filename for filename in all_files if check_name in filename]"
   ]
  },
  {
   "cell_type": "code",
   "execution_count": 19,
   "id": "6eead55c-9bfd-4a87-b269-95d6c92b50b5",
   "metadata": {},
   "outputs": [],
   "source": [
    "file_name = filtered_file_names[0]"
   ]
  },
  {
   "cell_type": "code",
   "execution_count": 20,
   "id": "09102c0f-d25b-4c90-9ebe-f72de08f7fc1",
   "metadata": {},
   "outputs": [],
   "source": [
    "with open(file_name, 'r') as file:\n",
    "    file_content_text = file.read()"
   ]
  },
  {
   "cell_type": "code",
   "execution_count": 21,
   "id": "0c745153-d21f-4d1c-8eb9-8a540dbf570d",
   "metadata": {},
   "outputs": [],
   "source": [
    "rule_request = json_decoder.decode(file_content_text)"
   ]
  },
  {
   "cell_type": "code",
   "execution_count": 22,
   "id": "3cc503b5-e43c-4871-8c99-7316a8771b6a",
   "metadata": {},
   "outputs": [],
   "source": [
    "import rules.percentile.anomaly_stationary_count_values as anomaly_stationary_count_values"
   ]
  },
  {
   "cell_type": "code",
   "execution_count": 23,
   "id": "adc0e8f2-3197-42db-b807-b7380f387181",
   "metadata": {},
   "outputs": [],
   "source": [
    "rule_result = anomaly_stationary_count_values.evaluate_rule(rule_request.request.rule_parameters)"
   ]
  },
  {
   "cell_type": "code",
   "execution_count": 24,
   "id": "9295c0d0-fea0-4774-9f9b-1a7713d0125a",
   "metadata": {},
   "outputs": [
    {
     "data": {
      "text/plain": [
       "'{\"passed\": true, \"expected_value\": 84.5, \"lower_bound\": 73.06673939940445, \"upper_bound\": 97.50065094889628}'"
      ]
     },
     "execution_count": 24,
     "metadata": {},
     "output_type": "execute_result"
    }
   ],
   "source": [
    "json_encoder.encode(rule_result)"
   ]
  },
  {
   "cell_type": "code",
   "execution_count": 25,
   "id": "4cba5915-8bc0-4a96-84d3-770b76dd24e8",
   "metadata": {},
   "outputs": [
    {
     "data": {
      "text/plain": [
       "'{\"actual_value\": 87.0, \"parameters\": {\"anomaly_percent\": 0.1, \"use_ai\": true}, \"time_period_local_epoch\": 1723420800, \"data_group\": \"Air Wisconsin Airlines Corp\", \"previous_readouts\": [null, null, null, null, null, null, null, null, null, null, null, null, null, null, null, null, null, null, null, null, null, null, null, null, null, null, null, null, null, null, null, null, null, null, null, null, null, null, null, null, null, null, null, null, null, null, null, null, null, null, null, null, null, null, null, null, null, null, null, null, {\"timestamp_utc_epoch\": 1720828800, \"local_datetime_epoch\": 1720828800, \"back_periods_index\": -30, \"sensor_readout\": 91.0}, {\"timestamp_utc_epoch\": 1720915200, \"local_datetime_epoch\": 1720915200, \"back_periods_index\": -29, \"sensor_readout\": 85.0}, {\"timestamp_utc_epoch\": 1721001600, \"local_datetime_epoch\": 1721001600, \"back_periods_index\": -28, \"sensor_readout\": 91.0}, {\"timestamp_utc_epoch\": 1721088000, \"local_datetime_epoch\": 1721088000, \"back_periods_index\": -27, \"sensor_readout\": 79.0}, {\"timestamp_utc_epoch\": 1721174400, \"local_datetime_epoch\": 1721174400, \"back_periods_index\": -26, \"sensor_readout\": 82.0}, {\"timestamp_utc_epoch\": 1721260800, \"local_datetime_epoch\": 1721260800, \"back_periods_index\": -25, \"sensor_readout\": 80.0}, {\"timestamp_utc_epoch\": 1721347200, \"local_datetime_epoch\": 1721347200, \"back_periods_index\": -24, \"sensor_readout\": 90.0}, {\"timestamp_utc_epoch\": 1721433600, \"local_datetime_epoch\": 1721433600, \"back_periods_index\": -23, \"sensor_readout\": 90.0}, {\"timestamp_utc_epoch\": 1721520000, \"local_datetime_epoch\": 1721520000, \"back_periods_index\": -22, \"sensor_readout\": 88.0}, {\"timestamp_utc_epoch\": 1721606400, \"local_datetime_epoch\": 1721606400, \"back_periods_index\": -21, \"sensor_readout\": 81.0}, {\"timestamp_utc_epoch\": 1721692800, \"local_datetime_epoch\": 1721692800, \"back_periods_index\": -20, \"sensor_readout\": 84.0}, {\"timestamp_utc_epoch\": 1721779200, \"local_datetime_epoch\": 1721779200, \"back_periods_index\": -19, \"sensor_readout\": 86.0}, {\"timestamp_utc_epoch\": 1721865600, \"local_datetime_epoch\": 1721865600, \"back_periods_index\": -18, \"sensor_readout\": 89.0}, {\"timestamp_utc_epoch\": 1721952000, \"local_datetime_epoch\": 1721952000, \"back_periods_index\": -17, \"sensor_readout\": 81.0}, {\"timestamp_utc_epoch\": 1722038400, \"local_datetime_epoch\": 1722038400, \"back_periods_index\": -16, \"sensor_readout\": 87.0}, {\"timestamp_utc_epoch\": 1722124800, \"local_datetime_epoch\": 1722124800, \"back_periods_index\": -15, \"sensor_readout\": 85.0}, {\"timestamp_utc_epoch\": 1722211200, \"local_datetime_epoch\": 1722211200, \"back_periods_index\": -14, \"sensor_readout\": 87.0}, {\"timestamp_utc_epoch\": 1722297600, \"local_datetime_epoch\": 1722297600, \"back_periods_index\": -13, \"sensor_readout\": 82.0}, {\"timestamp_utc_epoch\": 1722384000, \"local_datetime_epoch\": 1722384000, \"back_periods_index\": -12, \"sensor_readout\": 83.0}, {\"timestamp_utc_epoch\": 1722470400, \"local_datetime_epoch\": 1722470400, \"back_periods_index\": -11, \"sensor_readout\": 83.0}, {\"timestamp_utc_epoch\": 1722556800, \"local_datetime_epoch\": 1722556800, \"back_periods_index\": -10, \"sensor_readout\": 83.0}, {\"timestamp_utc_epoch\": 1722643200, \"local_datetime_epoch\": 1722643200, \"back_periods_index\": -9, \"sensor_readout\": 86.0}, {\"timestamp_utc_epoch\": 1722729600, \"local_datetime_epoch\": 1722729600, \"back_periods_index\": -8, \"sensor_readout\": 79.0}, {\"timestamp_utc_epoch\": 1722816000, \"local_datetime_epoch\": 1722816000, \"back_periods_index\": -7, \"sensor_readout\": 84.0}, {\"timestamp_utc_epoch\": 1722902400, \"local_datetime_epoch\": 1722902400, \"back_periods_index\": -6, \"sensor_readout\": 83.0}, {\"timestamp_utc_epoch\": 1722988800, \"local_datetime_epoch\": 1722988800, \"back_periods_index\": -5, \"sensor_readout\": 76.0}, {\"timestamp_utc_epoch\": 1723075200, \"local_datetime_epoch\": 1723075200, \"back_periods_index\": -4, \"sensor_readout\": 83.0}, {\"timestamp_utc_epoch\": 1723161600, \"local_datetime_epoch\": 1723161600, \"back_periods_index\": -3, \"sensor_readout\": 89.0}, {\"timestamp_utc_epoch\": 1723248000, \"local_datetime_epoch\": 1723248000, \"back_periods_index\": -2, \"sensor_readout\": 87.0}, {\"timestamp_utc_epoch\": 1723334400, \"local_datetime_epoch\": 1723334400, \"back_periods_index\": -1, \"sensor_readout\": 85.0}], \"time_window\": {\"prediction_time_window\": 90, \"min_periods_with_readouts\": 30, \"historic_data_point_grouping\": \"day\"}, \"configuration_parameters\": {\"degrees_of_freedom\": \"5\"}, \"model_path\": \"C:\\\\\\\\dev\\\\\\\\dqoado\\\\\\\\userhome\\\\\\\\.index\\\\\\\\models\\\\\\\\kaggle_parquet_new\\\\\\\\files.Combined_Flights_2022.parquet\\\\\\\\columns\\\\\\\\AirTime\\\\\\\\partitioned_checks\\\\\\\\daily\\\\\\\\uniqueness\\\\\\\\daily_partition_distinct_count_anomaly\", \"upper_bound_historic_data\": {\"time_period_epochs\": [1720828800, 1720915200, 1721001600, 1721088000, 1721174400, 1721260800, 1721347200, 1721433600, 1721520000, 1721606400, 1721692800, 1721779200, 1721865600, 1721952000, 1722038400, 1722124800, 1722211200, 1722297600, 1722384000, 1722470400, 1722556800, 1722643200, 1722729600, 1722816000, 1722902400, 1722988800, 1723075200, 1723161600, 1723248000, 1723334400], \"sensor_values\": [91.0, 85.0, 91.0, 79.0, 82.0, 80.0, 90.0, 90.0, 88.0, 81.0, 84.0, 86.0, 89.0, 81.0, 87.0, 85.0, 87.0, 82.0, 83.0, 83.0, 83.0, 86.0, 79.0, 84.0, 83.0, 76.0, 83.0, 89.0, 87.0, 85.0], \"converted_values\": [0.07692307692307687, 0.00591715976331364, 0.07692307692307687, -0.06962025316455689, -0.030487804878048808, -0.05625000000000013, 0.06508875739644981, 0.06508875739644981, 0.041420118343195256, -0.043209876543209846, -0.005952380952380931, 0.01775147928994092, 0.053254437869822535, -0.043209876543209846, 0.029585798816567976, 0.00591715976331364, 0.029585798816567976, -0.030487804878048808, -0.01807228915662651, -0.01807228915662651, -0.01807228915662651, 0.01775147928994092, -0.06962025316455689, -0.005952380952380931, -0.01807228915662651, -0.11184210526315774, -0.01807228915662651, 0.053254437869822535, 0.029585798816567976, 0.00591715976331364]}, \"lower_bound_historic_data\": {\"time_period_epochs\": [1720828800, 1720915200, 1721001600, 1721088000, 1721174400, 1721260800, 1721347200, 1721433600, 1721520000, 1721606400, 1721692800, 1721779200, 1721865600, 1721952000, 1722038400, 1722124800, 1722211200, 1722297600, 1722384000, 1722470400, 1722556800, 1722643200, 1722729600, 1722816000, 1722902400, 1722988800, 1723075200, 1723161600, 1723248000, 1723334400], \"sensor_values\": [91.0, 85.0, 91.0, 79.0, 82.0, 80.0, 90.0, 90.0, 88.0, 81.0, 84.0, 86.0, 89.0, 81.0, 87.0, 85.0, 87.0, 82.0, 83.0, 83.0, 83.0, 86.0, 79.0, 84.0, 83.0, 76.0, 83.0, 89.0, 87.0, 85.0], \"converted_values\": [0.07692307692307687, 0.00591715976331364, 0.07692307692307687, -0.06962025316455689, -0.030487804878048808, -0.05625000000000013, 0.06508875739644981, 0.06508875739644981, 0.041420118343195256, -0.043209876543209846, -0.005952380952380931, 0.01775147928994092, 0.053254437869822535, -0.043209876543209846, 0.029585798816567976, 0.00591715976331364, 0.029585798816567976, -0.030487804878048808, -0.01807228915662651, -0.01807228915662651, -0.01807228915662651, 0.01775147928994092, -0.06962025316455689, -0.005952380952380931, -0.01807228915662651, -0.11184210526315774, -0.01807228915662651, 0.053254437869822535, 0.029585798816567976, 0.00591715976331364]}}'"
      ]
     },
     "execution_count": 25,
     "metadata": {},
     "output_type": "execute_result"
    }
   ],
   "source": [
    "json_encoder.encode(rule_request.request.rule_parameters)"
   ]
  },
  {
   "cell_type": "code",
   "execution_count": null,
   "id": "5514ae77-606a-4b00-8ad5-58539e246edc",
   "metadata": {},
   "outputs": [],
   "source": []
  }
 ],
 "metadata": {
  "kernelspec": {
   "display_name": "Python 3 (ipykernel)",
   "language": "python",
   "name": "python3"
  },
  "language_info": {
   "codemirror_mode": {
    "name": "ipython",
    "version": 3
   },
   "file_extension": ".py",
   "mimetype": "text/x-python",
   "name": "python",
   "nbconvert_exporter": "python",
   "pygments_lexer": "ipython3",
   "version": "3.12.4"
  }
 },
 "nbformat": 4,
 "nbformat_minor": 5
}
